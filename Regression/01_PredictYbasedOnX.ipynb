{
 "cells": [
  {
   "cell_type": "markdown",
   "metadata": {},
   "source": [
    "## Build a predictive linear regression model for given dataset, train the model for training set and test it against test dataset, plot the model using any plotting library."
   ]
  },
  {
   "cell_type": "raw",
   "metadata": {},
   "source": [
    "Dataset url - https://drive.google.com/open?id=17Z5YVgk4hSzPvguWkck6tRb6Z2JEWdgh"
   ]
  },
  {
   "cell_type": "markdown",
   "metadata": {},
   "source": [
    "### Data Preprocessing"
   ]
  },
  {
   "cell_type": "code",
   "execution_count": 1,
   "metadata": {},
   "outputs": [
    {
     "data": {
      "text/plain": [
       "x    0\n",
       "y    1\n",
       "dtype: int64"
      ]
     },
     "execution_count": 1,
     "metadata": {},
     "output_type": "execute_result"
    }
   ],
   "source": [
    "import pandas as pd\n",
    "import matplotlib.pyplot as plt\n",
    "import numpy as np\n",
    "\n",
    "# reading given datasets\n",
    "test = pd.read_csv('test.csv')\n",
    "train = pd.read_csv('train.csv')\n",
    "train.isna().sum()"
   ]
  },
  {
   "cell_type": "code",
   "execution_count": 2,
   "metadata": {},
   "outputs": [
    {
     "name": "stdout",
     "output_type": "stream",
     "text": [
      "<class 'pandas.core.frame.DataFrame'>\n",
      "Int64Index: 699 entries, 0 to 699\n",
      "Data columns (total 2 columns):\n",
      "x    699 non-null float64\n",
      "y    699 non-null float64\n",
      "dtypes: float64(2)\n",
      "memory usage: 16.4 KB\n"
     ]
    }
   ],
   "source": [
    "# dropping null values from train set\n",
    "train = train.dropna()\n",
    "train.info()"
   ]
  },
  {
   "cell_type": "code",
   "execution_count": 3,
   "metadata": {},
   "outputs": [
    {
     "data": {
      "image/png": "[encoded data removed]",
      "text/plain": [
       "<Figure size 432x288 with 1 Axes>"
      ]
     },
     "metadata": {
      "needs_background": "light"
     },
     "output_type": "display_data"
    }
   ],
   "source": [
    "# plotting x_values vs y_values\n",
    "plt.scatter(test['x'], test['y'], marker = '.',s=10)\n",
    "plt.show()        # drawing graph"
   ]
  },
  {
   "cell_type": "code",
   "execution_count": 4,
   "metadata": {
    "scrolled": true
   },
   "outputs": [
    {
     "data": {
      "text/plain": [
       "699"
      ]
     },
     "execution_count": 4,
     "metadata": {},
     "output_type": "execute_result"
    }
   ],
   "source": [
    "total = train.shape[0]\n",
    "total                    # now total records in train set"
   ]
  },
  {
   "cell_type": "code",
   "execution_count": 5,
   "metadata": {},
   "outputs": [],
   "source": [
    "x_values = np.array(train['x'])         # storing columns of datasets as numpy arrays for efficient calculation\n",
    "y_values = np.array(train['y'])"
   ]
  },
  {
   "cell_type": "markdown",
   "metadata": {},
   "source": [
    "### Building model"
   ]
  },
  {
   "cell_type": "code",
   "execution_count": 6,
   "metadata": {
    "scrolled": true
   },
   "outputs": [],
   "source": [
    "theta0 = 0             # choosing any random values for parameters theta0 & theta1\n",
    "theta1 = 1             \n",
    "alpha = 0.0001         # learning rate for gradient descent\n",
    "iterations = 100    # total steps to be taken in gradient descent  \n",
    "# but we are choosing parameters to have least number of iterations observed (y-intercept & slope)\n",
    "# it gives approx model for single iteration as well\n",
    "\n",
    "predict = lambda x_values : theta0*np.ones(len(x_values)) + theta1*x_values \n",
    "\n",
    "# defining derivative of cost functions (avg difference betn value of y from hypothesis & actual y) for parameters theta0 & theta1 \n",
    "def der_cost0():\n",
    "    return (predict(x_values) - y_values).sum()/total\n",
    "    \n",
    "def der_cost1():\n",
    "    return (predict(x_values) - y_values).dot(x_values)/total\n",
    "\n",
    "# applying gradient descent algorithm\n",
    "for _ in range(iterations):\n",
    "    temp0 = theta0 - alpha*der_cost0()             # correcting parameters by decreasing  \n",
    "    temp1 = theta1 - alpha*der_cost1()            # cost function goes on decreasing as we tend towards minimum \n",
    "    theta0 = temp0                           #  simultaneously updating parameters\n",
    "    theta1 = temp1"
   ]
  },
  {
   "cell_type": "code",
   "execution_count": 7,
   "metadata": {},
   "outputs": [
    {
     "name": "stdout",
     "output_type": "stream",
     "text": [
      "theta0: -0.00028278223066271064  theta1: 0.9990535933701797\n",
      "Hypothesis function: y = -0.00028278223066271064 + 0.9990535933701797*x \n"
     ]
    }
   ],
   "source": [
    "print(f'theta0: {theta0}  theta1: {theta1}')\n",
    "print(f'Hypothesis function: y = {theta0} + {theta1}*x ')"
   ]
  },
  {
   "cell_type": "markdown",
   "metadata": {},
   "source": [
    "### Plotting given model against given data points"
   ]
  },
  {
   "cell_type": "code",
   "execution_count": 8,
   "metadata": {},
   "outputs": [
    {
     "data": {
      "image/png": "[encoded data removed]",
      "text/plain": [
       "<Figure size 432x288 with 1 Axes>"
      ]
     },
     "metadata": {
      "needs_background": "light"
     },
     "output_type": "display_data"
    }
   ],
   "source": [
    "# plotting predicted line (model built) against given data points \n",
    "plt.scatter(train['x'], train['y'], marker ='.',s=10, label='Data points') \n",
    "plt.plot(train['x'], predict(train['x']), c='r', label='Predicted line')\n",
    "plt.xlabel('x')\n",
    "plt.ylabel('y')\n",
    "plt.legend()\n",
    "plt.show()"
   ]
  },
  {
   "cell_type": "markdown",
   "metadata": {},
   "source": [
    "### Finding mean squared error"
   ]
  },
  {
   "cell_type": "code",
   "execution_count": 9,
   "metadata": {},
   "outputs": [
    {
     "data": {
      "text/plain": [
       "2.8054630078009732"
      ]
     },
     "execution_count": 9,
     "metadata": {},
     "output_type": "execute_result"
    }
   ],
   "source": [
    "# Finding Root mean squared error (RMSE)\n",
    "mse = ((predict(train['x'])- train['y'])**2).sum()        # mean squared error\n",
    "rmse = np.sqrt(mse/total)             # root mean squared error\n",
    "rmse"
   ]
  },
  {
   "cell_type": "markdown",
   "metadata": {},
   "source": [
    "### Evaluating model & finding accuracy "
   ]
  },
  {
   "cell_type": "code",
   "execution_count": 10,
   "metadata": {},
   "outputs": [
    {
     "data": {
      "text/plain": [
       "0.9887766491015644"
      ]
     },
     "execution_count": 10,
     "metadata": {},
     "output_type": "execute_result"
    }
   ],
   "source": [
    "# Calculating accuracy of built model against test set\n",
    "# Using R^2 score(Coeff of Determination) \n",
    "ssr = ((predict(test['x']) - test['y'])**2).sum()        # sum of square of residuals/errors\n",
    "sst = ((test['y']- test['y'].mean())**2).sum()           # sum of squares of actual deviations\n",
    "R_sqr_score = (1 - ssr/sst)   \n",
    "R_sqr_score"
   ]
  },
  {
   "cell_type": "code",
   "execution_count": 12,
   "metadata": {},
   "outputs": [
    {
     "data": {
      "text/plain": [
       "96.43693907290786"
      ]
     },
     "execution_count": 12,
     "metadata": {},
     "output_type": "execute_result"
    }
   ],
   "source": [
    "# Calculating accuracy using avg error\n",
    "total_error = abs(predict(test['x'])- test['y'])/test['y']\n",
    "(1- total_error.sum()/total)*100        # percentage of accuracy"
   ]
  }
 ],
 "metadata": {
  "kernelspec": {
   "display_name": "Python 3",
   "language": "python",
   "name": "python3"
  },
  "language_info": {
   "codemirror_mode": {
    "name": "ipython",
    "version": 3
   },
   "file_extension": ".py",
   "mimetype": "text/x-python",
   "name": "python",
   "nbconvert_exporter": "python",
   "pygments_lexer": "ipython3",
   "version": "3.6.9"
  }
 },
 "nbformat": 4,
 "nbformat_minor": 2
}
