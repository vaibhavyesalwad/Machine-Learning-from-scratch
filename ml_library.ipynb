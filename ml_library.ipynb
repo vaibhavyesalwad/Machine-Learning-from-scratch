{
 "cells": [
  {
   "cell_type": "code",
   "execution_count": 1,
   "metadata": {},
   "outputs": [],
   "source": [
    "import numpy as np"
   ]
  },
  {
   "cell_type": "markdown",
   "metadata": {},
   "source": [
    "### Data Preprocessing functions"
   ]
  },
  {
   "cell_type": "markdown",
   "metadata": {},
   "source": [
    "#### Splitting dataset into train & test set"
   ]
  },
  {
   "cell_type": "code",
   "execution_count": 2,
   "metadata": {},
   "outputs": [],
   "source": [
    "# Splitting 70 % dataset into train set & 30 % dataset into dataset into test set\n",
    "def splitting_dataset(data):\n",
    "    train = data.sample(frac=0.7, random_state=3)   # selecting random 0.7 fraction of dataset as train set   \n",
    "    # chossing different random state will give different random rows\n",
    "    test = data.drop(train.index)            # selecting remaining i.e. 30% as test set\n",
    "    return train, test"
   ]
  },
  {
   "cell_type": "markdown",
   "metadata": {},
   "source": [
    "### Categorising functions for different algorithms"
   ]
  },
  {
   "cell_type": "code",
   "execution_count": 3,
   "metadata": {},
   "outputs": [],
   "source": [
    "# categorising predicted values of logistic regression\n",
    "def categorise_logistic(y_values):\n",
    "    return np.where(y_values >= 0.5, 1, 0)   "
   ]
  },
  {
   "cell_type": "code",
   "execution_count": 4,
   "metadata": {},
   "outputs": [],
   "source": [
    "def categorise_knn(y_values):\n",
    "    return n.where(y.values == True, 1, 0) "
   ]
  },
  {
   "cell_type": "markdown",
   "metadata": {},
   "source": [
    "### Evaluations functions"
   ]
  },
  {
   "cell_type": "markdown",
   "metadata": {},
   "source": [
    "#### Root mean squared error (RMSE)"
   ]
  },
  {
   "cell_type": "code",
   "execution_count": 5,
   "metadata": {},
   "outputs": [],
   "source": [
    "def root_mean_sqr_error(predicted_values, actual_values):\n",
    "    mean_sqr_error = ((predicted_values - actual_values)**2).mean()        # mean squared error\n",
    "    return np.sqrt(mean_sqr_error)              # root mean squared error"
   ]
  },
  {
   "cell_type": "markdown",
   "metadata": {},
   "source": [
    "#### R^2 score (Coeff of Determination) "
   ]
  },
  {
   "cell_type": "code",
   "execution_count": 6,
   "metadata": {},
   "outputs": [],
   "source": [
    "def r_sqr_score(predicted_values, actual_values):    \n",
    "    sum_sqr_errors = ((predicted_values - actual_values)**2).sum()        # sum of square of residuals/errors\n",
    "    sum_sqr_deviations = ((actual_values - actual_values.mean())**2).sum()  # sum of squares of actual deviations\n",
    "    return (1 - sum_sqr_errors/sum_sqr_deviations)   "
   ]
  },
  {
   "cell_type": "markdown",
   "metadata": {},
   "source": [
    "#### Regression accuracy"
   ]
  },
  {
   "cell_type": "code",
   "execution_count": 7,
   "metadata": {},
   "outputs": [],
   "source": [
    "def accuracy_regression(predicted_values, actual_values):\n",
    "    total_error = abs(predicted_values - actual_values)/actual_values\n",
    "    return (1- total_error.mean())*100        # percentage of accuracy"
   ]
  },
  {
   "cell_type": "markdown",
   "metadata": {},
   "source": [
    "#### Classification accuracy"
   ]
  },
  {
   "cell_type": "code",
   "execution_count": 8,
   "metadata": {},
   "outputs": [],
   "source": [
    "def accuracy_classification(predicted_values, actual_values):\n",
    "    return (predicted_values == actual_values).mean()*100"
   ]
  }
 ],
 "metadata": {
  "kernelspec": {
   "display_name": "Python 3",
   "language": "python",
   "name": "python3"
  },
  "language_info": {
   "codemirror_mode": {
    "name": "ipython",
    "version": 3
   },
   "file_extension": ".py",
   "mimetype": "text/x-python",
   "name": "python",
   "nbconvert_exporter": "python",
   "pygments_lexer": "ipython3",
   "version": "3.6.9"
  }
 },
 "nbformat": 4,
 "nbformat_minor": 2
}
