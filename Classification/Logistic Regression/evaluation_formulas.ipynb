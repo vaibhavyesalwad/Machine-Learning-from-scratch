{
 "cells": [
  {
   "cell_type": "code",
   "execution_count": 5,
   "metadata": {},
   "outputs": [],
   "source": [
    "import numpy as np\n",
    "\n",
    "# categorising predicted values\n",
    "def categorise_prediction(y_values):\n",
    "    return np.where(y_values >= 0.5, 1, 0)   \n",
    "\n",
    "# finding accuracy using total predicting correct category\n",
    "def accuracy(predicted_y_values, y_values):\n",
    "    return (categorise_prediction(predicted_y_values) == y_values).mean()*100"
   ]
  }
 ],
 "metadata": {
  "kernelspec": {
   "display_name": "Python 3",
   "language": "python",
   "name": "python3"
  },
  "language_info": {
   "codemirror_mode": {
    "name": "ipython",
    "version": 3
   },
   "file_extension": ".py",
   "mimetype": "text/x-python",
   "name": "python",
   "nbconvert_exporter": "python",
   "pygments_lexer": "ipython3",
   "version": "3.6.9"
  }
 },
 "nbformat": 4,
 "nbformat_minor": 2
}
